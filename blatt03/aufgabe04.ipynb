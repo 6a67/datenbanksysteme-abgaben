{
 "cells": [
  {
   "cell_type": "code",
   "execution_count": 41,
   "metadata": {},
   "outputs": [
    {
     "name": "stdout",
     "output_type": "stream",
     "text": [
      "Could not write values into table, because table already exists\n"
     ]
    },
    {
     "ename": "SystemExit",
     "evalue": "1",
     "output_type": "error",
     "traceback": [
      "An exception has occurred, use %tb to see the full traceback.\n",
      "\u001b[0;31mSystemExit\u001b[0m\u001b[0;31m:\u001b[0m 1\n"
     ]
    },
    {
     "name": "stderr",
     "output_type": "stream",
     "text": [
      "/home/main/.local/lib/python3.10/site-packages/IPython/core/interactiveshell.py:3377: UserWarning: To exit: use 'exit', 'quit', or Ctrl-D.\n",
      "  warn(\"To exit: use 'exit', 'quit', or Ctrl-D.\", stacklevel=1)\n"
     ]
    }
   ],
   "source": [
    "import mariadb\n",
    "import sys\n",
    "import pandas as pd\n",
    "\n",
    "\n",
    "def import_file_into_db_table_(filename, database, user, passwd, tableName,\n",
    "createTableStatement = \"\", overwrite = False):\n",
    "    try:\n",
    "        connection = mariadb.connect(\n",
    "        user=user,\n",
    "        password=passwd, # or insert string here\n",
    "        host=\"127.0.0.1\",\n",
    "        port=3306,\n",
    "        database=database\n",
    "        )\n",
    "    except mariadb.Error as error:\n",
    "        print(f'Error connecting to MariaDB: {error}')\n",
    "        sys.exit(1)\n",
    "\n",
    "    cursor = connection.cursor()\n",
    "\n",
    "    \n",
    "\n",
    "\n",
    "    table_exists = False\n",
    "    try:\n",
    "        cursor.execute(f\"\"\"DESCRIBE student_mat;\"\"\")\n",
    "        table_exists = True\n",
    "    except:\n",
    "        pass\n",
    "\n",
    "    if(table_exists):\n",
    "        if(overwrite):\n",
    "            cursor.execute(f\"\"\"LOAD DATA INFILE \"{filename}\"\n",
    "                                REPLACE\n",
    "                                INTO TABLE {tableName}\n",
    "                                FIELDS TERMINATED BY ';'\n",
    "                                ENCLOSED BY '\"'\n",
    "                                IGNORE 1 LINES;\"\"\")\n",
    "        else:\n",
    "            print('Could not write values into table, because table already exists')\n",
    "            sys.exit(1)\n",
    "    else:\n",
    "        if createTableStatement:\n",
    "            try:\n",
    "                cursor.execute(createTableStatement)\n",
    "            except:\n",
    "                print(\"createTableStatement failed\")\n",
    "                sys.exit(1)\n",
    "\n",
    "        cursor.execute(f\"\"\"LOAD DATA INFILE \"{filename}\"\n",
    "                            INTO TABLE {tableName}\n",
    "                            FIELDS TERMINATED BY ';'\n",
    "                            ENCLOSED BY '\"'\n",
    "                            IGNORE 1 LINES;\"\"\")\n",
    "        \n",
    "    \n",
    "\n",
    "    # check if rows match\n",
    "    df = pd.read_csv(filename, delimiter=\";\")\n",
    "    cursor.execute(f\"SELECT COUNT(*) FROM {tableName}\")\n",
    "    if len(df.index) == cursor.fetchall()[0][0]:\n",
    "        print(\"Length of table matches the CSV file\")\n",
    "    else:\n",
    "        print(\"Length of table does not match the CSV file\")\n",
    "\n",
    "\n",
    "createTableStatement = \"\"\n",
    "with open(\"createTableStatement.sql\") as f:\n",
    "    createTableStatement = f.read()\n",
    "\n",
    "import_file_into_db_table_(filename=\"student-mat.csv\", database=\"db2022\", user=\"root\", passwd=\"password\", tableName=\"student_mat\", createTableStatement=createTableStatement)\n"
   ]
  }
 ],
 "metadata": {
  "interpreter": {
   "hash": "e7370f93d1d0cde622a1f8e1c04877d8463912d04d973331ad4851f04de6915a"
  },
  "kernelspec": {
   "display_name": "Python 3.10.4 64-bit",
   "language": "python",
   "name": "python3"
  },
  "language_info": {
   "codemirror_mode": {
    "name": "ipython",
    "version": 3
   },
   "file_extension": ".py",
   "mimetype": "text/x-python",
   "name": "python",
   "nbconvert_exporter": "python",
   "pygments_lexer": "ipython3",
   "version": "3.10.4"
  },
  "orig_nbformat": 4
 },
 "nbformat": 4,
 "nbformat_minor": 2
}
