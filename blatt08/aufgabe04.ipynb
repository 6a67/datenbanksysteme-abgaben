{
 "cells": [
  {
   "cell_type": "code",
   "execution_count": 2,
   "metadata": {},
   "outputs": [
    {
     "name": "stdout",
     "output_type": "stream",
     "text": [
      "[]\n"
     ]
    }
   ],
   "source": [
    "from pyDatalog import pyDatalog\n",
    "\n",
    "pyDatalog.create_atoms('N1,N2,V,T1,T2,S1,S2,R1,R2,C,N,M, relCourse, relTopic, require, course, buildsOn, related, X,Y,Z,R, test')\n",
    "\n",
    "+ course(\"5001\", \"Grundzüge\", \"4\", \"2137\")\n",
    "+ course(\"5041\", \"Ethik\", \"4\", \"2125\")\n",
    "+ course(\"5043\", \"Erkenntnistheorie\", \"3\", \"2126\")\n",
    "+ course(\"5049\", \"Mäeutik\", \"2\", \"2125\")\n",
    "+ course(\"4052\", \"Logik\", \"4\", \"2125\")\n",
    "+ course(\"5052\", \"Wissenschaftstheorie\", \"3\", \"2126\")\n",
    "+ course(\"5216\", \"Bioethik\", \"2\", \"2126\")\n",
    "+ course(\"5259\", \"Der Wiener Kreis\", \"2\", \"2133\")\n",
    "+ course(\"5022\", \"Glaube und Wissen\", \"2\", \"2134\")\n",
    "+ course(\"4630\", \"Die 3 Kritiken\", \"4\", \"2137\")\n",
    "\n",
    "+ require(\"5001\", \"5041\")\n",
    "+ require(\"5001\", \"5043\")\n",
    "+ require(\"5001\", \"5049\")\n",
    "+ require(\"5041\", \"5216\")\n",
    "+ require(\"5043\", \"5052\")\n",
    "+ require(\"5041\", \"5052\")\n",
    "+ require(\"5052\", \"5259\")\n",
    "\n",
    "\n",
    "\n",
    "relCourse(N1, N2) <= require(V, N1) & require(V, N2) & (N1 < N2)\n",
    "relTopic(T1, T2) <= relCourse(N1, N2) & course(N1, T1, S1, R1) & course(N2, T2, S2, R2)\n",
    "\n",
    "buildsOn(C, N) <= require(C, N)\n",
    "buildsOn(C, N) <= buildsOn(C, M) & require(M, N)\n",
    "\n",
    "related(N, M) <= buildsOn(N, M)\n",
    "related(N, M) <= buildsOn(M, N)\n",
    "related(N, M) <= buildsOn(V, N) & buildsOn(V, M)\n",
    "\n",
    "\n",
    "test(X,X,Y) <= (X==Y)\n",
    "\n",
    "print(test(1,1,2))\n"
   ]
  },
  {
   "cell_type": "code",
   "execution_count": null,
   "metadata": {},
   "outputs": [],
   "source": []
  }
 ],
 "metadata": {
  "interpreter": {
   "hash": "e7370f93d1d0cde622a1f8e1c04877d8463912d04d973331ad4851f04de6915a"
  },
  "kernelspec": {
   "display_name": "Python 3.10.4 64-bit",
   "language": "python",
   "name": "python3"
  },
  "language_info": {
   "codemirror_mode": {
    "name": "ipython",
    "version": 3
   },
   "file_extension": ".py",
   "mimetype": "text/x-python",
   "name": "python",
   "nbconvert_exporter": "python",
   "pygments_lexer": "ipython3",
   "version": "3.10.4"
  },
  "orig_nbformat": 4
 },
 "nbformat": 4,
 "nbformat_minor": 2
}
